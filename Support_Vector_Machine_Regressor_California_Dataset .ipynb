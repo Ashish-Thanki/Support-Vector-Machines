{
 "cells": [
  {
   "cell_type": "markdown",
   "metadata": {},
   "source": [
    "# Load Data"
   ]
  },
  {
   "cell_type": "code",
   "execution_count": 1,
   "metadata": {},
   "outputs": [],
   "source": [
    "from sklearn.datasets import fetch_california_housing\n",
    "\n",
    "housing = fetch_california_housing()\n",
    "X = housing[\"data\"]\n",
    "y = housing[\"target\"]"
   ]
  },
  {
   "cell_type": "markdown",
   "metadata": {},
   "source": [
    "# Prepare Data"
   ]
  },
  {
   "cell_type": "code",
   "execution_count": 2,
   "metadata": {},
   "outputs": [],
   "source": [
    "from sklearn.model_selection import train_test_split\n",
    "\n",
    "X_train, X_test, y_train, y_test = train_test_split(X, y, test_size=0.2, random_state=42)\n",
    "\n",
    "# I would prefer to use Stratified Split but for the purpose of this tutorial, is SVM Regressor"
   ]
  },
  {
   "cell_type": "code",
   "execution_count": 3,
   "metadata": {},
   "outputs": [
    {
     "data": {
      "text/plain": [
       "array([1.03 , 3.821, 1.726, ..., 2.221, 2.835, 3.25 ])"
      ]
     },
     "execution_count": 3,
     "metadata": {},
     "output_type": "execute_result"
    }
   ],
   "source": [
    "from sklearn.preprocessing import StandardScaler\n",
    "\n",
    "standard = StandardScaler()\n",
    "X_train_scaled = standard.fit_transform(X_train)\n",
    "X_test_scaled = standard.transform(X_test) #DO NOT FIT ON TEST SET, ONLY TRANSFORM!!!!\n",
    "X_train_scaled\n",
    "y_train"
   ]
  },
  {
   "cell_type": "markdown",
   "metadata": {},
   "source": [
    "# Train Model\n",
    "\n",
    "### LinearSVR\n",
    "(Recall that it tends to be quicker than SVC=kernel='linear'.)\n",
    "\n",
    "With so many Kernels to choose from you should generally:\n",
    "Always try LinearSVR first (judge the bias term (i.e. modelling selection errors introduce);\n",
    "Then try SVC(kernel='rbf')\n",
    "If you have time then model others plus a final cross validation and grid search. "
   ]
  },
  {
   "cell_type": "code",
   "execution_count": 4,
   "metadata": {},
   "outputs": [
    {
     "name": "stderr",
     "output_type": "stream",
     "text": [
      "C:\\Users\\Ashish\\AppData\\Local\\Programs\\Python\\Python38-32\\lib\\site-packages\\sklearn\\svm\\_base.py:946: ConvergenceWarning: Liblinear failed to converge, increase the number of iterations.\n",
      "  warnings.warn(\"Liblinear failed to converge, increase \"\n"
     ]
    },
    {
     "data": {
      "text/plain": [
       "LinearSVR(C=1.5, dual=True, epsilon=0.0, fit_intercept=True,\n",
       "          intercept_scaling=1.0, loss='epsilon_insensitive', max_iter=1000,\n",
       "          random_state=42, tol=0.0001, verbose=0)"
      ]
     },
     "execution_count": 4,
     "metadata": {},
     "output_type": "execute_result"
    }
   ],
   "source": [
    "from sklearn.svm import LinearSVR\n",
    "from sklearn.svm import SVR\n",
    "\n",
    "linear_reg = LinearSVR(random_state=42, C= 1.5)\n",
    "linear_reg.fit(X_train_scaled, y_train)"
   ]
  },
  {
   "cell_type": "code",
   "execution_count": 5,
   "metadata": {},
   "outputs": [
    {
     "data": {
      "text/plain": [
       "0.9745112892669746"
      ]
     },
     "execution_count": 5,
     "metadata": {},
     "output_type": "execute_result"
    }
   ],
   "source": [
    "from sklearn.metrics import mean_squared_error\n",
    "import numpy as np\n",
    "y_pred = linear_reg.predict(X_train_scaled)\n",
    "y_pred\n",
    "MSE = mean_squared_error(y_train, y_pred)\n",
    "np.sqrt(MSE) #RMSE"
   ]
  },
  {
   "cell_type": "markdown",
   "metadata": {},
   "source": [
    "#### What does this result mean? \n",
    "\n",
    "<b> Think about the RMSE formula </b>\n",
    "\n",
    "RMSE = sqrt((y_actual- y-predict)^2)\n",
    "so y_actual = MSE +/- y_predict\n",
    "\n",
    "Our mean error margin will be +/- 0.9745 * $10,000 ~ $10,000.  Which isn't that great. It may be that the model is a higher order polynomial? Perhaps a better approach is to use SVC? \n",
    "\n",
    "### SVC\n",
    "\n",
    "(Use RBF because we are not sure how many degrees the model should be - Benefit of SVC!)\n",
    "<b> Instead of searching through the right parameters for C and gamma, the programme do the hard work! Use RandomizedSearch </b>\n",
    "\n",
    "NOTE! I spent 1 hour trying to figure out why this was not working, when all the problem was a typo - I typed SVC NOT SVR!!!! SVC is a classifier not regressor!!! "
   ]
  },
  {
   "cell_type": "code",
   "execution_count": 6,
   "metadata": {},
   "outputs": [
    {
     "name": "stderr",
     "output_type": "stream",
     "text": [
      "C:\\Users\\Ashish\\AppData\\Local\\Programs\\Python\\Python38-32\\lib\\site-packages\\sklearn\\model_selection\\_search.py:277: UserWarning: The total space of parameters 4 is smaller than n_iter=10. Running 4 iterations. For exhaustive searches, use GridSearchCV.\n",
      "  warnings.warn(\n",
      "[Parallel(n_jobs=1)]: Using backend SequentialBackend with 1 concurrent workers.\n"
     ]
    },
    {
     "name": "stdout",
     "output_type": "stream",
     "text": [
      "Fitting 3 folds for each of 4 candidates, totalling 12 fits\n",
      "[CV] kernel=rbf, gamma=0.001, C=1 ....................................\n",
      "[CV] ....... kernel=rbf, gamma=0.001, C=1, score=-0.556, total=   8.0s\n",
      "[CV] kernel=rbf, gamma=0.001, C=1 ....................................\n"
     ]
    },
    {
     "name": "stderr",
     "output_type": "stream",
     "text": [
      "[Parallel(n_jobs=1)]: Done   1 out of   1 | elapsed:    7.9s remaining:    0.0s\n"
     ]
    },
    {
     "name": "stdout",
     "output_type": "stream",
     "text": [
      "[CV] ....... kernel=rbf, gamma=0.001, C=1, score=-0.532, total=   7.5s\n",
      "[CV] kernel=rbf, gamma=0.001, C=1 ....................................\n"
     ]
    },
    {
     "name": "stderr",
     "output_type": "stream",
     "text": [
      "[Parallel(n_jobs=1)]: Done   2 out of   2 | elapsed:   15.4s remaining:    0.0s\n"
     ]
    },
    {
     "name": "stdout",
     "output_type": "stream",
     "text": [
      "[CV] ....... kernel=rbf, gamma=0.001, C=1, score=-0.557, total=   7.5s\n",
      "[CV] kernel=rbf, gamma=0.1, C=1 ......................................\n",
      "[CV] ......... kernel=rbf, gamma=0.1, C=1, score=-0.365, total=   7.3s\n",
      "[CV] kernel=rbf, gamma=0.1, C=1 ......................................\n",
      "[CV] ......... kernel=rbf, gamma=0.1, C=1, score=-0.361, total=   7.2s\n",
      "[CV] kernel=rbf, gamma=0.1, C=1 ......................................\n",
      "[CV] ......... kernel=rbf, gamma=0.1, C=1, score=-0.368, total=   7.3s\n",
      "[CV] kernel=rbf, gamma=0.001, C=10 ...................................\n",
      "[CV] ...... kernel=rbf, gamma=0.001, C=10, score=-0.548, total=   7.6s\n",
      "[CV] kernel=rbf, gamma=0.001, C=10 ...................................\n",
      "[CV] ...... kernel=rbf, gamma=0.001, C=10, score=-0.494, total=   7.5s\n",
      "[CV] kernel=rbf, gamma=0.001, C=10 ...................................\n",
      "[CV] ...... kernel=rbf, gamma=0.001, C=10, score=-0.507, total=   7.5s\n",
      "[CV] kernel=rbf, gamma=0.1, C=10 .....................................\n",
      "[CV] ........ kernel=rbf, gamma=0.1, C=10, score=-0.333, total=  11.2s\n",
      "[CV] kernel=rbf, gamma=0.1, C=10 .....................................\n",
      "[CV] ........ kernel=rbf, gamma=0.1, C=10, score=-0.329, total=  11.4s\n",
      "[CV] kernel=rbf, gamma=0.1, C=10 .....................................\n",
      "[CV] ........ kernel=rbf, gamma=0.1, C=10, score=-0.333, total=  11.2s\n"
     ]
    },
    {
     "name": "stderr",
     "output_type": "stream",
     "text": [
      "[Parallel(n_jobs=1)]: Done  12 out of  12 | elapsed:  1.7min finished\n"
     ]
    },
    {
     "data": {
      "text/plain": [
       "RandomizedSearchCV(cv=3, error_score=nan,\n",
       "                   estimator=SVR(C=1.0, cache_size=200, coef0=0.0, degree=3,\n",
       "                                 epsilon=0.1, gamma='scale', kernel='rbf',\n",
       "                                 max_iter=-1, shrinking=True, tol=0.001,\n",
       "                                 verbose=False),\n",
       "                   iid='deprecated', n_iter=10, n_jobs=None,\n",
       "                   param_distributions=[{'C': [1, 10], 'gamma': [0.001, 0.1],\n",
       "                                         'kernel': ['rbf']}],\n",
       "                   pre_dispatch='2*n_jobs', random_state=42, refit=True,\n",
       "                   return_train_score=False, scoring='neg_mean_squared_error',\n",
       "                   verbose=3)"
      ]
     },
     "execution_count": 6,
     "metadata": {},
     "output_type": "execute_result"
    }
   ],
   "source": [
    "from sklearn.svm import SVR\n",
    "from sklearn.model_selection import RandomizedSearchCV\n",
    "from sklearn.metrics import mean_squared_error\n",
    "from numpy import reciprocal\n",
    "\n",
    "#Assign Initial Parameters Gamma and C\n",
    "parameters = [{\"gamma\": [0.001, 0.1], \"C\": [1, 10], 'kernel': ['rbf']}]\n",
    "\n",
    "\n",
    "random_search = RandomizedSearchCV(SVR(), cv=3, random_state=42,\n",
    "                                   param_distributions=parameters, n_iter=10,\n",
    "                                   scoring='neg_mean_squared_error', verbose=3)\n",
    "\n",
    "random_search.fit(X_train_scaled, y_train)"
   ]
  },
  {
   "cell_type": "code",
   "execution_count": 7,
   "metadata": {},
   "outputs": [
    {
     "data": {
      "text/plain": [
       "SVR(C=10, cache_size=200, coef0=0.0, degree=3, epsilon=0.1, gamma=0.1,\n",
       "    kernel='rbf', max_iter=-1, shrinking=True, tol=0.001, verbose=False)"
      ]
     },
     "execution_count": 7,
     "metadata": {},
     "output_type": "execute_result"
    }
   ],
   "source": [
    "random_search.best_estimator_"
   ]
  },
  {
   "cell_type": "markdown",
   "metadata": {},
   "source": [
    "#### In reality, I would search again by changing the values of gamma and C because both gamma and C returned the biggest values. But this is very computationally intensive on my 2013 8GB RAM Dell Laptop.\n",
    "\n",
    "# Always FINE TUNE your model!\n",
    "##### The value was half the value we achieved in initially in our LinearSVR. \n"
   ]
  },
  {
   "cell_type": "code",
   "execution_count": 8,
   "metadata": {},
   "outputs": [
    {
     "data": {
      "text/plain": [
       "0.5522988985570297"
      ]
     },
     "execution_count": 8,
     "metadata": {},
     "output_type": "execute_result"
    }
   ],
   "source": [
    "y_pred = random_search.best_estimator_.predict(X_train_scaled)\n",
    "mse = mean_squared_error(y_train, y_pred)\n",
    "np.sqrt(mse)"
   ]
  },
  {
   "cell_type": "markdown",
   "metadata": {},
   "source": [
    "# Test Model"
   ]
  },
  {
   "cell_type": "code",
   "execution_count": 9,
   "metadata": {},
   "outputs": [
    {
     "data": {
      "text/plain": [
       "0.5756623788940652"
      ]
     },
     "execution_count": 9,
     "metadata": {},
     "output_type": "execute_result"
    }
   ],
   "source": [
    "y_pred = random_search.best_estimator_.predict(X_test_scaled)\n",
    "mse = mean_squared_error(y_test, y_pred)\n",
    "np.sqrt(mse)"
   ]
  },
  {
   "cell_type": "markdown",
   "metadata": {},
   "source": [
    "#####  Seems like we are generalising somewhat good and not overfitting in comparison to LinearSVR. \n",
    "\n",
    "Definitely recommend going through this yourself. "
   ]
  },
  {
   "cell_type": "code",
   "execution_count": null,
   "metadata": {},
   "outputs": [],
   "source": []
  }
 ],
 "metadata": {
  "celltoolbar": "Raw Cell Format",
  "kernelspec": {
   "display_name": "TrainingPython3",
   "language": "python",
   "name": "trainingpython3"
  },
  "language_info": {
   "codemirror_mode": {
    "name": "ipython",
    "version": 3
   },
   "file_extension": ".py",
   "mimetype": "text/x-python",
   "name": "python",
   "nbconvert_exporter": "python",
   "pygments_lexer": "ipython3",
   "version": "3.8.2"
  }
 },
 "nbformat": 4,
 "nbformat_minor": 4
}
